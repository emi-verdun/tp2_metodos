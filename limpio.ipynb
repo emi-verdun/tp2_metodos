{
 "cells": [
  {
   "cell_type": "code",
   "execution_count": 1,
   "metadata": {},
   "outputs": [],
   "source": [
    "import numpy as np\n",
    "import matplotlib.pyplot as plt\n",
    "from PIL import Image\n",
    "import os\n",
    "from scipy.special import expit\n"
   ]
  },
  {
   "cell_type": "code",
   "execution_count": 2,
   "metadata": {},
   "outputs": [],
   "source": [
    "def abrirImagenesEscaladas( carpeta, escala=300 ):\n",
    "    # abre todas las imagenes de la carpeta, y las escala de tal forma que midan (escala x escala)px\n",
    "    # devuelve las imagenes aplanadas -> vectores de tamano escala^2 con valores entre 0 y 1\n",
    "    imagenes = []\n",
    "\n",
    "    for dirpath, dirnames, filenames in os.walk(carpeta):\n",
    "        for file in filenames:\n",
    "            img = Image.open( os.path.join(carpeta, file) )\n",
    "            img = img.resize((escala, escala))\n",
    "            img.convert('1')\n",
    "            img = np.asarray(img)\n",
    "            if len(img.shape)==3:\n",
    "                img = img[:,:,0].reshape((escala**2 )) / 255\n",
    "            else:\n",
    "                img = img.reshape((escala**2 )) / 255\n",
    "            \n",
    "            imagenes.append( img )\n",
    "\n",
    "    return imagenes"
   ]
  },
  {
   "cell_type": "code",
   "execution_count": 3,
   "metadata": {},
   "outputs": [],
   "source": [
    "def balancear_datos(imagenes_entrenamiento):\n",
    "    imagenes_entrenamiento_balanceadas = abrirImagenesEscaladas(imagenes_entrenamiento)\n",
    "    return imagenes_entrenamiento_balanceadas"
   ]
  },
  {
   "cell_type": "code",
   "execution_count": 4,
   "metadata": {},
   "outputs": [],
   "source": [
    "im=np.array(balancear_datos(\"train_mini2\"))\n",
    "x_t = im\n",
    "y_t = np.array([0]*42 + [1]*42)\n",
    "TOLERANCIA = 0.0001\n"
   ]
  },
  {
   "cell_type": "code",
   "execution_count": 5,
   "metadata": {},
   "outputs": [],
   "source": [
    "def normalizar(X):\n",
    "     return (X - np.mean(X, axis=0)) / np.std(X, axis=0)"
   ]
  },
  {
   "cell_type": "code",
   "execution_count": 6,
   "metadata": {},
   "outputs": [],
   "source": [
    "def f(x,w,b):\n",
    "    return (np.tanh((np.dot(w, x.T)) + b) + 1) / 2"
   ]
  },
  {
   "cell_type": "code",
   "execution_count": 7,
   "metadata": {},
   "outputs": [],
   "source": [
    "def L(w, b, x, y):\n",
    "    f = (np.tanh(np.dot(x, w) + b) + 1) / 2\n",
    "    return np.mean((f - y) ** 2)"
   ]
  },
  {
   "cell_type": "code",
   "execution_count": 8,
   "metadata": {},
   "outputs": [],
   "source": [
    "def descxgrad(X, y_true, learning_rate, iter=1000):\n",
    "    k = X.shape[1]  # número de píxeles por imagen\n",
    "    n = X.shape[0]  # número de imágenes\n",
    "    X = normalizar(X)  # Normalizar los datos\n",
    "\n",
    "    w = np.ones(k)  # Inicializar w con valores pequeños aleatorios\n",
    "    b = 0\n",
    "\n",
    "    for i in range(iter):\n",
    "        y_predicha = f(X,w,b)\n",
    "        error = y_predicha - y_true\n",
    "        w_grad = np.dot(error * (1 - y_predicha**2), X) / n\n",
    "        b_grad = np.sum(error * (1 - y_predicha**2)) / n\n",
    "\n",
    "        w_sig = w - learning_rate * w_grad\n",
    "        b_sig = b - learning_rate * b_grad\n",
    "\n",
    "        diferencia = abs(L(w,b,X,y_true)- L(w_sig,b_sig,X,y_true))\n",
    "        if diferencia<TOLERANCIA:\n",
    "            print(f'iteracion {i}, min: {L(w_sig,b_sig,X,y_true)}')\n",
    "            break\n",
    "\n",
    "        w=w_sig\n",
    "        b=b_sig\n",
    "        print(f'iteracion {i}, min: {L(w,b,X,y_true)}')\n",
    "    return w,b, y_predicha"
   ]
  },
  {
   "cell_type": "code",
   "execution_count": 9,
   "metadata": {},
   "outputs": [
    {
     "name": "stdout",
     "output_type": "stream",
     "text": [
      "alfa: 30\n",
      "iteracion 0, min: 0.3333333333333333\n",
      "iteracion 1, min: 0.08333333333333333\n",
      "iteracion 2, min: 0.09523809523809523\n",
      "iteracion 3, min: 0.047619047619047616\n",
      "iteracion 4, min: 0.047619047619047616\n",
      "\n",
      "\n",
      "alfa: 29\n",
      "iteracion 0, min: 0.3333333333333333\n",
      "iteracion 1, min: 0.08333333333333333\n",
      "iteracion 2, min: 0.09523809523809612\n",
      "iteracion 3, min: 0.047619047619047616\n",
      "iteracion 4, min: 0.047619047619047616\n",
      "\n",
      "\n",
      "alfa: 28\n",
      "iteracion 0, min: 0.32142857142857145\n",
      "iteracion 1, min: 0.08333333333333333\n",
      "iteracion 2, min: 0.08333333333333333\n",
      "\n",
      "\n",
      "alfa: 27\n",
      "iteracion 0, min: 0.32142857142857145\n",
      "iteracion 1, min: 0.08333333333333333\n",
      "iteracion 2, min: 0.09523809523809523\n",
      "iteracion 3, min: 0.05952380952380952\n",
      "iteracion 4, min: 0.03571428571428571\n",
      "iteracion 5, min: 0.03571428571428571\n",
      "\n",
      "\n",
      "alfa: 26\n",
      "iteracion 0, min: 0.32142857142857145\n",
      "iteracion 1, min: 0.07142857142857142\n",
      "iteracion 2, min: 0.047619047619047616\n",
      "iteracion 3, min: 0.047619047619047616\n",
      "\n",
      "\n",
      "alfa: 25\n",
      "iteracion 0, min: 0.32142857142857145\n",
      "iteracion 1, min: 0.07142857142857142\n",
      "iteracion 2, min: 0.08333333333333333\n",
      "iteracion 3, min: 0.07142857142857142\n",
      "iteracion 4, min: 0.047619047619047616\n",
      "iteracion 5, min: 0.03571428571428571\n",
      "iteracion 6, min: 0.03571428571428571\n",
      "\n",
      "\n",
      "alfa: 24\n",
      "iteracion 0, min: 0.30952380952380953\n",
      "iteracion 1, min: 0.08333333333333333\n",
      "iteracion 2, min: 0.08333333333333333\n",
      "\n",
      "\n",
      "alfa: 23\n",
      "iteracion 0, min: 0.30952380952380953\n",
      "iteracion 1, min: 0.07142857142857142\n",
      "iteracion 2, min: 0.05952380952380952\n",
      "iteracion 3, min: 0.05952380952380952\n",
      "\n",
      "\n",
      "alfa: 22\n",
      "iteracion 0, min: 0.30952380952380953\n",
      "iteracion 1, min: 0.07142857142857142\n",
      "iteracion 2, min: 0.07142857142857142\n",
      "\n",
      "\n",
      "alfa: 21\n",
      "iteracion 0, min: 0.2976190476190476\n",
      "iteracion 1, min: 0.07142857142857142\n",
      "iteracion 2, min: 0.07142857142857142\n",
      "\n",
      "\n",
      "alfa: 20\n",
      "iteracion 0, min: 0.2619047619047619\n",
      "iteracion 1, min: 0.05952380952380952\n",
      "iteracion 2, min: 0.047619047619047616\n",
      "iteracion 3, min: 0.047619047619047616\n",
      "\n",
      "\n",
      "alfa: 15\n",
      "iteracion 0, min: 0.23809523809523808\n",
      "iteracion 1, min: 0.08333333333333333\n",
      "iteracion 2, min: 0.08333333333333333\n",
      "\n",
      "\n",
      "alfa: 10\n",
      "iteracion 0, min: 0.14285714285714285\n",
      "iteracion 1, min: 0.05952380952380952\n",
      "iteracion 2, min: 0.13095238095238096\n",
      "iteracion 3, min: 0.13095238095238096\n",
      "\n",
      "\n",
      "alfa: 5\n",
      "iteracion 0, min: 0.2976190476190476\n",
      "iteracion 1, min: 0.11904761904761904\n",
      "iteracion 2, min: 0.05952380952380952\n",
      "iteracion 3, min: 0.07142857142857142\n",
      "iteracion 4, min: 0.05952380952380952\n",
      "iteracion 5, min: 0.05952380952380952\n",
      "\n",
      "\n",
      "alfa: 2\n",
      "iteracion 0, min: 0.39285714285714285\n",
      "iteracion 1, min: 0.3333333333333333\n",
      "iteracion 2, min: 0.28575546499792537\n",
      "iteracion 3, min: 0.19047619047619047\n",
      "iteracion 4, min: 0.16666666666666666\n",
      "iteracion 5, min: 0.09523809523809523\n",
      "iteracion 6, min: 0.08333333333333333\n",
      "iteracion 7, min: 0.05952380952380952\n",
      "iteracion 8, min: 0.05952380952380952\n",
      "\n",
      "\n",
      "alfa: 1\n",
      "iteracion 0, min: 0.4166666666666667\n",
      "iteracion 1, min: 0.39285714285714285\n",
      "iteracion 2, min: 0.36904761904761907\n",
      "iteracion 3, min: 0.32142857142857145\n",
      "iteracion 4, min: 0.2976190476190476\n",
      "iteracion 5, min: 0.2976190476190476\n",
      "\n",
      "\n",
      "alfa: 0.5\n",
      "iteracion 0, min: 0.4523809523809524\n",
      "\n",
      "\n",
      "alfa: 0.1\n",
      "iteracion 0, min: 0.4523809523809524\n",
      "\n",
      "\n",
      "alfa: 0.05\n",
      "iteracion 0, min: 0.4523809523809524\n",
      "\n",
      "\n",
      "alfa: 0.001\n",
      "iteracion 0, min: 0.4523809523809524\n",
      "\n",
      "\n"
     ]
    }
   ],
   "source": [
    "alfas = [30,29,28,27,26,25,24,23,22,21,20,15,10,5,2,1,0.5,0.1,0.05,0.001]\n",
    "for i in range(len(alfas)):\n",
    "    print(f'alfa: {alfas[i]}')\n",
    "    descxgrad(x_t,y_t,alfas[i])\n",
    "    print('\\n')"
   ]
  },
  {
   "cell_type": "code",
   "execution_count": 10,
   "metadata": {},
   "outputs": [
    {
     "name": "stdout",
     "output_type": "stream",
     "text": [
      "iteracion 0, min: 0.32142857142857145\n",
      "iteracion 1, min: 0.07142857142857142\n",
      "iteracion 2, min: 0.08333333333333333\n",
      "iteracion 3, min: 0.07142857142857142\n",
      "iteracion 4, min: 0.047619047619047616\n",
      "iteracion 5, min: 0.03571428571428571\n",
      "iteracion 6, min: 0.03571428571428571\n"
     ]
    }
   ],
   "source": [
    "rate = 25\n",
    "w,b,y_mono =  descxgrad(x_t,y_t,rate)"
   ]
  },
  {
   "cell_type": "code",
   "execution_count": 11,
   "metadata": {},
   "outputs": [
    {
     "data": {
      "text/plain": [
       "array([0., 0., 0., 0., 0., 0., 0., 0., 0., 0., 0., 0., 1., 0., 0., 0., 0.,\n",
       "       0., 0., 0., 0., 0., 0., 0., 0., 1., 0., 0., 0., 0., 1., 0., 0., 0.,\n",
       "       0., 0., 0., 0., 0., 0., 0., 0., 1., 1., 1., 1., 1., 1., 1., 1., 1.,\n",
       "       1., 1., 1., 1., 1., 1., 1., 1., 1., 1., 1., 1., 1., 1., 1., 1., 1.,\n",
       "       1., 1., 1., 1., 1., 1., 1., 1., 1., 1., 1., 1., 1., 1., 1., 1.])"
      ]
     },
     "execution_count": 11,
     "metadata": {},
     "output_type": "execute_result"
    }
   ],
   "source": [
    "prediccion = f(x_t,w,b)\n",
    "prediccion"
   ]
  }
 ],
 "metadata": {
  "kernelspec": {
   "display_name": "metodos",
   "language": "python",
   "name": "python3"
  },
  "language_info": {
   "codemirror_mode": {
    "name": "ipython",
    "version": 3
   },
   "file_extension": ".py",
   "mimetype": "text/x-python",
   "name": "python",
   "nbconvert_exporter": "python",
   "pygments_lexer": "ipython3",
   "version": "3.11.8"
  }
 },
 "nbformat": 4,
 "nbformat_minor": 2
}
