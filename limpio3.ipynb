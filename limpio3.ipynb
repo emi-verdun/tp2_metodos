{
 "cells": [
  {
   "cell_type": "code",
   "execution_count": 1,
   "metadata": {},
   "outputs": [],
   "source": [
    "import numpy as np\n",
    "import matplotlib.pyplot as plt\n",
    "from PIL import Image\n",
    "import os\n",
    "from scipy.special import expit\n",
    "from sklearn.decomposition import PCA\n"
   ]
  },
  {
   "cell_type": "code",
   "execution_count": 2,
   "metadata": {},
   "outputs": [],
   "source": [
    "def abrirImagenesEscaladas( carpeta, escala=200):\n",
    "    # abre todas las imagenes de la carpeta, y las escala de tal forma que midan (escala x escala)px\n",
    "    # devuelve las imagenes aplanadas -> vectores de tamano escala^2 con valores entre 0 y 1\n",
    "    imagenes = []\n",
    "\n",
    "    for dirpath, dirnames, filenames in os.walk(carpeta):\n",
    "        for file in filenames:\n",
    "            img = Image.open( os.path.join(carpeta, file) )\n",
    "            img = img.resize((escala, escala))\n",
    "            img.convert('1')\n",
    "            img = np.asarray(img)\n",
    "            if len(img.shape)==3:\n",
    "                img = img[:,:,0].reshape((escala**2 )) / 255\n",
    "            else:\n",
    "                img = img.reshape((escala**2 )) / 255\n",
    "            \n",
    "            imagenes.append( img )\n",
    "\n",
    "    return imagenes"
   ]
  },
  {
   "cell_type": "code",
   "execution_count": 3,
   "metadata": {},
   "outputs": [],
   "source": [
    "def balancear_datos(imagenes_entrenamiento):\n",
    "    imagenes_entrenamiento_balanceadas = abrirImagenesEscaladas(imagenes_entrenamiento)\n",
    "    return imagenes_entrenamiento_balanceadas"
   ]
  },
  {
   "cell_type": "code",
   "execution_count": 4,
   "metadata": {},
   "outputs": [
    {
     "ename": "KeyboardInterrupt",
     "evalue": "",
     "output_type": "error",
     "traceback": [
      "\u001b[1;31m---------------------------------------------------------------------------\u001b[0m",
      "\u001b[1;31mKeyboardInterrupt\u001b[0m                         Traceback (most recent call last)",
      "Cell \u001b[1;32mIn[4], line 1\u001b[0m\n\u001b[1;32m----> 1\u001b[0m x_grande \u001b[38;5;241m=\u001b[39m np\u001b[38;5;241m.\u001b[39marray(balancear_datos(\u001b[38;5;124m\"\u001b[39m\u001b[38;5;124mtrain_mini\u001b[39m\u001b[38;5;124m\"\u001b[39m))\n\u001b[0;32m      2\u001b[0m cant \u001b[38;5;241m=\u001b[39m x_grande\u001b[38;5;241m.\u001b[39mshape[\u001b[38;5;241m0\u001b[39m]\n",
      "Cell \u001b[1;32mIn[3], line 2\u001b[0m, in \u001b[0;36mbalancear_datos\u001b[1;34m(imagenes_entrenamiento)\u001b[0m\n\u001b[0;32m      1\u001b[0m \u001b[38;5;28;01mdef\u001b[39;00m \u001b[38;5;21mbalancear_datos\u001b[39m(imagenes_entrenamiento):\n\u001b[1;32m----> 2\u001b[0m     imagenes_entrenamiento_balanceadas \u001b[38;5;241m=\u001b[39m abrirImagenesEscaladas(imagenes_entrenamiento)\n\u001b[0;32m      3\u001b[0m     \u001b[38;5;28;01mreturn\u001b[39;00m imagenes_entrenamiento_balanceadas\n",
      "Cell \u001b[1;32mIn[2], line 9\u001b[0m, in \u001b[0;36mabrirImagenesEscaladas\u001b[1;34m(carpeta, escala)\u001b[0m\n\u001b[0;32m      7\u001b[0m \u001b[38;5;28;01mfor\u001b[39;00m file \u001b[38;5;129;01min\u001b[39;00m filenames:\n\u001b[0;32m      8\u001b[0m     img \u001b[38;5;241m=\u001b[39m Image\u001b[38;5;241m.\u001b[39mopen( os\u001b[38;5;241m.\u001b[39mpath\u001b[38;5;241m.\u001b[39mjoin(carpeta, file) )\n\u001b[1;32m----> 9\u001b[0m     img \u001b[38;5;241m=\u001b[39m img\u001b[38;5;241m.\u001b[39mresize((escala, escala))\n\u001b[0;32m     10\u001b[0m     img\u001b[38;5;241m.\u001b[39mconvert(\u001b[38;5;124m'\u001b[39m\u001b[38;5;124m1\u001b[39m\u001b[38;5;124m'\u001b[39m)\n\u001b[0;32m     11\u001b[0m     img \u001b[38;5;241m=\u001b[39m np\u001b[38;5;241m.\u001b[39masarray(img)\n",
      "File \u001b[1;32mc:\\Users\\Mariana\\anaconda3_1\\envs\\metodos\\Lib\\site-packages\\PIL\\Image.py:2164\u001b[0m, in \u001b[0;36mImage.resize\u001b[1;34m(self, size, resample, box, reducing_gap)\u001b[0m\n\u001b[0;32m   2160\u001b[0m     \u001b[38;5;28;01mraise\u001b[39;00m \u001b[38;5;167;01mValueError\u001b[39;00m(msg)\n\u001b[0;32m   2162\u001b[0m size \u001b[38;5;241m=\u001b[39m \u001b[38;5;28mtuple\u001b[39m(size)\n\u001b[1;32m-> 2164\u001b[0m \u001b[38;5;28mself\u001b[39m\u001b[38;5;241m.\u001b[39mload()\n\u001b[0;32m   2165\u001b[0m \u001b[38;5;28;01mif\u001b[39;00m box \u001b[38;5;129;01mis\u001b[39;00m \u001b[38;5;28;01mNone\u001b[39;00m:\n\u001b[0;32m   2166\u001b[0m     box \u001b[38;5;241m=\u001b[39m (\u001b[38;5;241m0\u001b[39m, \u001b[38;5;241m0\u001b[39m) \u001b[38;5;241m+\u001b[39m \u001b[38;5;28mself\u001b[39m\u001b[38;5;241m.\u001b[39msize\n",
      "File \u001b[1;32mc:\\Users\\Mariana\\anaconda3_1\\envs\\metodos\\Lib\\site-packages\\PIL\\ImageFile.py:291\u001b[0m, in \u001b[0;36mImageFile.load\u001b[1;34m(self)\u001b[0m\n\u001b[0;32m    288\u001b[0m         \u001b[38;5;28;01mraise\u001b[39;00m \u001b[38;5;167;01mOSError\u001b[39;00m(msg)\n\u001b[0;32m    290\u001b[0m b \u001b[38;5;241m=\u001b[39m b \u001b[38;5;241m+\u001b[39m s\n\u001b[1;32m--> 291\u001b[0m n, err_code \u001b[38;5;241m=\u001b[39m decoder\u001b[38;5;241m.\u001b[39mdecode(b)\n\u001b[0;32m    292\u001b[0m \u001b[38;5;28;01mif\u001b[39;00m n \u001b[38;5;241m<\u001b[39m \u001b[38;5;241m0\u001b[39m:\n\u001b[0;32m    293\u001b[0m     \u001b[38;5;28;01mbreak\u001b[39;00m\n",
      "\u001b[1;31mKeyboardInterrupt\u001b[0m: "
     ]
    }
   ],
   "source": [
    "x_sanos = np.array(balancear_datos(\"train_mini/normal\"))\n",
    "x_insanos = np.array(balancear_datos(\"train_mini/neumonia\"))"
   ]
  },
  {
   "cell_type": "code",
   "execution_count": 5,
   "metadata": {},
   "outputs": [],
   "source": [
    "TOLERANCIA = 0.0001"
   ]
  },
  {
   "cell_type": "code",
   "execution_count": 6,
   "metadata": {},
   "outputs": [],
   "source": [
    "def f(x,w,b):\n",
    "    return (np.tanh((np.dot(w, x)) + b) + 1) / 2"
   ]
  },
  {
   "cell_type": "code",
   "execution_count": 8,
   "metadata": {},
   "outputs": [],
   "source": [
    "#sum((f-d)*1-tan(w*i+b)**2)*i\n",
    "def dW(x,w,b,d):\n",
    "    y = (np.tanh(np.dot(x,w)+b)+1)/2\n",
    "    return np.dot((y-d)*((1-np.tanh(np.dot(x,w)+b))**2),x) \n"
   ]
  },
  {
   "cell_type": "code",
   "execution_count": null,
   "metadata": {},
   "outputs": [],
   "source": [
    "#sum((f-d)*1-tan(w*i+b)**2)\n",
    "def dB(x,w,b,d):\n",
    "    y = (np.tanh(np.dot(x,w)+b)+1)/2\n",
    "    return (y-d)*((1-np.tanh(np.dot(x,w)+b))**2)\n"
   ]
  },
  {
   "cell_type": "code",
   "execution_count": 9,
   "metadata": {},
   "outputs": [],
   "source": [
    "def gradient_descent(datos_sanos,datos_neum,learning_rate, iter=1000):\n",
    "    # x = normalizar(x)\n",
    "    w = np.zeros(x.shape[1])\n",
    "    b = 0\n",
    "    #grad_w = 0\n",
    "    #grad_b = 0\n",
    "\n",
    "\n",
    "    for i in range(0,iter):\n",
    "        grad_w = 0\n",
    "        grad_b = 0\n",
    "        # Cuando los pacientes son sanos\n",
    "        d = 0\n",
    "        for i in len(datos_sanos):\n",
    "            grad_w += dW(datos_sanos[i], w, b, d)\n",
    "            grad_b += dB(datos_sanos[i], w, b, d)\n",
    "\n",
    "        #Cuando los pacientes tienen neum\n",
    "        d=1\n",
    "        for i in len(datos_neum):\n",
    "            grad_w += dW(datos_neum[i], w, b, d)\n",
    "            grad_b += dB(datos_neum[i], w, b, d)\n",
    "\n",
    "        # Actualización de los parámetros\n",
    "        w_sig = w - learning_rate * grad_w\n",
    "        b_sig = b - learning_rate * grad_b\n",
    "        print(w_sig)\n",
    "\n",
    "        # Calcular el costo actual (para monitorear el progreso)\n",
    "        err1 = L(x,y,w,b)\n",
    "        err2 = L(x,y,w_sig,b_sig)\n",
    "    \n",
    "        print(f'Iteracion {i}, Minimo error: {err1}')\n",
    "        \n",
    "        if abs(err1-err2) < TOLERANCIA:\n",
    "            print(f'Convergencia en iteracion {i}')\n",
    "            break\n",
    "\n",
    "        # print(f'w:{w}, w_sig:{w_sig}')\n",
    "\n",
    "        w = w_sig\n",
    "        b = b_sig\n",
    "\n",
    "    return w, b"
   ]
  }
 ],
 "metadata": {
  "kernelspec": {
   "display_name": "metodos",
   "language": "python",
   "name": "python3"
  },
  "language_info": {
   "codemirror_mode": {
    "name": "ipython",
    "version": 3
   },
   "file_extension": ".py",
   "mimetype": "text/x-python",
   "name": "python",
   "nbconvert_exporter": "python",
   "pygments_lexer": "ipython3",
   "version": "3.11.8"
  }
 },
 "nbformat": 4,
 "nbformat_minor": 2
}
